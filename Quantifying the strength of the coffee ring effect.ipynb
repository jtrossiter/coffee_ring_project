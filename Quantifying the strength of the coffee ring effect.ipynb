{
 "cells": [
  {
   "cell_type": "markdown",
   "id": "9a80ca67",
   "metadata": {},
   "source": [
    "This Jupyter notebook calculates the ring parameter as explained in the report for a sequence of images or a single image"
   ]
  },
  {
   "cell_type": "markdown",
   "id": "ba9cccc1",
   "metadata": {},
   "source": [
    "### Load required modules"
   ]
  },
  {
   "cell_type": "code",
   "execution_count": null,
   "id": "40974588",
   "metadata": {},
   "outputs": [],
   "source": [
    "import numpy as np\n",
    "import matplotlib.pyplot as plt\n",
    "import glob\n",
    "import time\n",
    "from skimage.filters import median, threshold_multiotsu\n",
    "from skimage.feature import canny\n",
    "from skimage.io import imread\n",
    "from skimage.measure import profile_line, regionprops, label\n",
    "from skimage.transform import hough_circle, hough_circle_peaks\n",
    "from skimage.morphology import disk"
   ]
  },
  {
   "cell_type": "markdown",
   "id": "ca9aa4b2",
   "metadata": {},
   "source": [
    "### Define some convenience functions"
   ]
  },
  {
   "cell_type": "markdown",
   "id": "c6eda8e4",
   "metadata": {},
   "source": [
    "Detect circles in the image, zoom into the most prominent one"
   ]
  },
  {
   "cell_type": "code",
   "execution_count": null,
   "id": "30f231ae",
   "metadata": {},
   "outputs": [],
   "source": [
    "def detectCircles(img, radii=np.arange(20,250,10)):\n",
    "    # get the shape of the image\n",
    "    imgShape = img.shape\n",
    "    \n",
    "    # detect edges in the image using canny edge detection\n",
    "    imgMed = median(img)\n",
    "    edges = canny(imgMed, sigma=30)\n",
    "\n",
    "    # detect circles in the image using a circular hough transform\n",
    "    hough_res = hough_circle(edges, radii, normalize=False)\n",
    "\n",
    "    # select the most prominent circle\n",
    "    accums, cx, cy, radius = hough_circle_peaks(hough_res, radii, num_peaks=1, total_num_peaks=1)\n",
    "\n",
    "    # zoom into the detected circle\n",
    "    imgCenter = np.array([imgShape[0]/2, imgShape[1]/2])\n",
    "    pad = 100\n",
    "    imgRadius = radius + pad\n",
    "    ymax = int(cy + imgRadius)\n",
    "    ymin = int(cy - imgRadius)\n",
    "    xmax = int(cx + imgRadius)\n",
    "    xmin = int(cx - imgRadius)\n",
    "    imgZoom = img[ymin:ymax, xmin:xmax].astype('uint8')\n",
    "    \n",
    "    return imgZoom"
   ]
  },
  {
   "cell_type": "markdown",
   "id": "a0dfa76a",
   "metadata": {},
   "source": [
    "Check if a ring is visible enough in the image"
   ]
  },
  {
   "cell_type": "code",
   "execution_count": null,
   "id": "669f8e4f",
   "metadata": {},
   "outputs": [],
   "source": [
    "def detectRing(img, radii=np.arange(20,250,10)):\n",
    "    # detect a circle in the image and zoom in\n",
    "    imgZoom = detectCircles(img, radii)\n",
    "    \n",
    "    # apply a median filter to remove noise\n",
    "    imgMed = median(imgZoom, disk(3))\n",
    "    \n",
    "    # threshold the image into three regions\n",
    "    thresh = threshold_multiotsu(imgMed)\n",
    "    imgThresh = np.digitize(imgMed, thresh)\n",
    "    \n",
    "    # label regions in the image and extract region properties\n",
    "    backgroundLabel = imgThresh[0,0]\n",
    "    labels = label(imgThresh, background=backgroundLabel, connectivity=1)\n",
    "    rp = regionprops(labels, intensity_image=imgZoom)\n",
    "    \n",
    "    # calculate the ratio of each region area to the regions filled in area\n",
    "    areaRatios = []\n",
    "    for region in rp:\n",
    "        area = region.area\n",
    "        area_filled = region.area_filled\n",
    "        areaRatios.append(area/area_filled)\n",
    "    \n",
    "    # reject the image if the ratio of areas is above 0.5, determined by analysing the given images\n",
    "    areaMin = min(areaRatios)\n",
    "    if areaMin > 0.5:\n",
    "        return None\n",
    "    else:\n",
    "        return imgZoom"
   ]
  },
  {
   "cell_type": "markdown",
   "id": "7773b5cf",
   "metadata": {},
   "source": [
    "Process the image to ensure the ring is dark and background is bright"
   ]
  },
  {
   "cell_type": "code",
   "execution_count": null,
   "id": "76b5e931",
   "metadata": {},
   "outputs": [],
   "source": [
    "def processImage(img, radii=np.arange(20,250,10)):\n",
    "    # detect a circle in the image and zoom in\n",
    "    imgZoom = detectRing(img, radii)\n",
    "    if (imgZoom is not None):\n",
    "        # if image not rejected, ensure the rings are dark\n",
    "        \n",
    "        # find max and min pixel values\n",
    "        pixValMax = np.max(imgZoom)\n",
    "        pixValMin = np.min(imgZoom)\n",
    "        \n",
    "        # determine which of these is the peak by comparing to the median pixel value\n",
    "        medPixVal = np.median(imgZoom)\n",
    "        maxDist = np.abs(pixValMax-medPixVal)\n",
    "        minDist = np.abs(pixValMin-medPixVal)\n",
    "        \n",
    "        # the actual peak value is whichever value is furthest away from the median value\n",
    "        # if the peak is bright, invert the image\n",
    "        if (maxDist > minDist):\n",
    "            imgZoom = ~imgZoom\n",
    "        return imgZoom\n",
    "    return None"
   ]
  },
  {
   "cell_type": "markdown",
   "id": "ac9c162c",
   "metadata": {},
   "source": [
    "Calculate pixel intensities at the minima, in the ring interior, and outside the ring"
   ]
  },
  {
   "cell_type": "code",
   "execution_count": null,
   "id": "e41c2920",
   "metadata": {},
   "outputs": [],
   "source": [
    "def calculateIntensities(img, startPoint, endPoint, tol=10):\n",
    "    # compute a line profile across the image\n",
    "    lp = profile_line(img, startPoint, endPoint)\n",
    "    lpLen = len(lp)\n",
    "    \n",
    "    # find the values and locations of the first and second pixel minima (i.e the ring itself)\n",
    "    pixMinLeft = np.min(lp[0:int(lpLen/2)])\n",
    "    pixMinLeftInd = np.where(lp[0:int(lpLen/2)] == pixMinLeft)[0][0]\n",
    "    pixMinRight = np.min(lp[int(lpLen/2):lpLen])\n",
    "    pixMinRightInd = np.where(lp[int(lpLen/2):lpLen] == pixMinRight)[0][0] + int(lpLen/2)\n",
    "    # calculate the average of the pixel minima\n",
    "    pixMin = int(np.mean([pixMinLeft, pixMinRight]))\n",
    "    \n",
    "    # compute median pixel values in the exterior and interior regions of the ring \n",
    "    # use a tolerance to ensure the median is computed far enough away from each peak\n",
    "    medPixValInt = np.median(lp[pixMinLeftInd+tol:pixMinRightInd-tol])\n",
    "    medPixValExt = np.median(np.concatenate([lp[0:pixMinLeftInd-tol],lp[pixMinRightInd+tol:lpLen]]))\n",
    "    \n",
    "    return medPixValInt, medPixValExt, pixMin"
   ]
  },
  {
   "cell_type": "markdown",
   "id": "8fc75128",
   "metadata": {},
   "source": [
    "Get average of pixel intensities for multiple line profiles (20 by default)"
   ]
  },
  {
   "cell_type": "code",
   "execution_count": null,
   "id": "4e6dbf46",
   "metadata": {},
   "outputs": [],
   "source": [
    "def averageIntensities(img, num=20):\n",
    "    pixValsInt = 0\n",
    "    pixValsExt = 0\n",
    "    pixValsMin = 0\n",
    "    imgShape = img.shape\n",
    "    yCen = int(imgShape[0]/2)\n",
    "    xCen = int(imgShape[1]/2)\n",
    "    \n",
    "    # compute the angles needed for the required number of line profiles\n",
    "    angles = np.linspace(0, 180, num+1)\n",
    "    angles = np.delete(angles,-1)\n",
    "    angles = np.deg2rad(angles)\n",
    "    \n",
    "    # find the start and end point of each line\n",
    "    startPoints = []\n",
    "    endPoints = []\n",
    "    for a in angles:\n",
    "        xStart = xCen - xCen*np.cos(a)\n",
    "        xEnd = xCen + xCen*np.cos(a)\n",
    "        yStart = xCen - yCen*np.sin(a)\n",
    "        yEnd = yCen + yCen*np.sin(a)\n",
    "        startPoints.append([yStart,xStart])\n",
    "        endPoints.append([yEnd,xEnd])\n",
    "    \n",
    "    # compute average pixel intensities across each line profile for the ring, exterior region, and interior region\n",
    "    for i in range(num):\n",
    "        intensities = calculateIntensities(img, startPoints[i], endPoints[i])\n",
    "        pixValsInt += intensities[0]\n",
    "        pixValsExt += intensities[1]\n",
    "        pixValsMin += intensities[2]\n",
    "        \n",
    "    pixValsInt = pixValsInt/num\n",
    "    pixValsExt = pixValsExt/num\n",
    "    pixValsMin = pixValsMin/num\n",
    "    return pixValsInt, pixValsExt, pixValsMin"
   ]
  },
  {
   "cell_type": "markdown",
   "id": "000566b5",
   "metadata": {},
   "source": [
    "Calculate the ring parameter for an image, given weighting factors $w_{ext}$, $w_{int}$ (0.75, 0.25 by default)"
   ]
  },
  {
   "cell_type": "code",
   "execution_count": null,
   "id": "ef5875a9",
   "metadata": {},
   "outputs": [],
   "source": [
    "# calculate ring parameter\n",
    "def ringParameter(img, wExt=0.75, wInt=0.25, radii=np.arange(20,250,10)):\n",
    "    # process image so ring is dark\n",
    "    imgProcessed = processImage(img, radii)\n",
    "    if (imgProcessed is not None):\n",
    "        intensities = averageIntensities(imgProcessed)\n",
    "        return (1 - intensities[2]*((wExt/intensities[1])+(wInt/intensities[0])))\n",
    "    else:\n",
    "        return 0"
   ]
  },
  {
   "cell_type": "markdown",
   "id": "6a1b6713",
   "metadata": {},
   "source": [
    "### Analyse the given images"
   ]
  },
  {
   "cell_type": "markdown",
   "id": "452a7879",
   "metadata": {},
   "source": [
    "To analyse a *single* image, rename the image to \"testImage.jpg\" and place the image into the **same directory as this Jupyter notebook**. Then run the following code block:"
   ]
  },
  {
   "cell_type": "code",
   "execution_count": null,
   "id": "049eca19",
   "metadata": {},
   "outputs": [],
   "source": [
    "# load the image\n",
    "image = imread('testImage.jpg', as_gray=True)*255\n",
    "\n",
    "# analyse the image\n",
    "ringParam = ringParameter(image)\n",
    "if ringParam != 0:\n",
    "    print('Ring has ring parameter {}'.format(ringParam))\n",
    "else:\n",
    "    print('Ring not clearly visible')"
   ]
  },
  {
   "cell_type": "markdown",
   "id": "086e0445",
   "metadata": {},
   "source": [
    "To analyse *multiple* images, create a folder named \"Images\" in the **same directory as this Jupyter notebook**, and place the images into this folder. Then run the following code block:"
   ]
  },
  {
   "cell_type": "code",
   "execution_count": null,
   "id": "b6f383ed",
   "metadata": {
    "scrolled": true
   },
   "outputs": [],
   "source": [
    "# set path to input image sequence\n",
    "input_dir  = \"Images/*\"\n",
    "imgArr = []\n",
    "\n",
    "# load the images\n",
    "for fname in glob.glob(input_dir):\n",
    "    im = imread(fname, as_gray=True)*255\n",
    "    imgArr.append(im)\n",
    "\n",
    "# analyse the images\n",
    "ringParams = []\n",
    "start = time.time()\n",
    "for img in imgArr:\n",
    "    ringParams.append(ringParameter(img))\n",
    "end = time.time()\n",
    "\n",
    "print('Done, took {} minutes'.format(np.round((end-start)/60,3)))\n",
    "print(ringParams)"
   ]
  }
 ],
 "metadata": {
  "kernelspec": {
   "display_name": "Python 3 (ipykernel)",
   "language": "python",
   "name": "python3"
  },
  "language_info": {
   "codemirror_mode": {
    "name": "ipython",
    "version": 3
   },
   "file_extension": ".py",
   "mimetype": "text/x-python",
   "name": "python",
   "nbconvert_exporter": "python",
   "pygments_lexer": "ipython3",
   "version": "3.11.5"
  }
 },
 "nbformat": 4,
 "nbformat_minor": 5
}
